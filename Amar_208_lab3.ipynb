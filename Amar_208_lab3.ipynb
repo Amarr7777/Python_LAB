{
 "cells": [
  {
   "cell_type": "markdown",
   "metadata": {},
   "source": [
    "Write a function in Python with a string such that it accepts a parameter- “stringsplit”. This encoded string will contain your name, domain name and register number. You can separate the values in the string by any number of underscores. [The string should not contain any other underscore symbols in your name, domain name and register number]. The function should return a Python dictionary with your name, domain name and register number."
   ]
  },
  {
   "cell_type": "code",
   "execution_count": 22,
   "metadata": {},
   "outputs": [
    {
     "name": "stdout",
     "output_type": "stream",
     "text": [
      "['Amar', '208', 'faculty management']\n",
      "{'name': 'Amar', 'reg_no': '208', 'domain': 'faculty management'}\n"
     ]
    }
   ],
   "source": [
    "def details():\n",
    "    details = input(\"Enter Your name, register number and Domain: \")\n",
    "    lst = details.split(\"_\")\n",
    "    strsplit = [space.strip() for space in lst if space.strip()]\n",
    "    print(strsplit)\n",
    "    name  = strsplit[0].strip()\n",
    "    reg_no  = strsplit[1].strip()\n",
    "    domain  = strsplit[2].strip()\n",
    "        \n",
    "    dict = {\n",
    "        \"name\": name,\n",
    "        \"reg_no\": reg_no,\n",
    "        \"domain\": domain\n",
    "    }\n",
    "    print(dict)\n",
    "details()"
   ]
  },
  {
   "cell_type": "markdown",
   "metadata": {},
   "source": []
  }
 ],
 "metadata": {
  "kernelspec": {
   "display_name": "Python 3",
   "language": "python",
   "name": "python3"
  },
  "language_info": {
   "codemirror_mode": {
    "name": "ipython",
    "version": 3
   },
   "file_extension": ".py",
   "mimetype": "text/x-python",
   "name": "python",
   "nbconvert_exporter": "python",
   "pygments_lexer": "ipython3",
   "version": "3.9.7"
  },
  "orig_nbformat": 4
 },
 "nbformat": 4,
 "nbformat_minor": 2
}
