{
 "cells": [
  {
   "cell_type": "markdown",
   "metadata": {},
   "source": [
    "Write a Python program to implement the object-oriented concepts of multiple, Multilevel and Hierarchical Inheritances using your domain applications."
   ]
  },
  {
   "cell_type": "code",
   "execution_count": 2,
   "metadata": {},
   "outputs": [
    {
     "name": "stdout",
     "output_type": "stream",
     "text": [
      "PHD Domain : Artifical Intelligence\n",
      "department : Computaional science\n"
     ]
    }
   ],
   "source": [
    "# multiple inheritance\n",
    "\n",
    "class PHD:\n",
    "\tphd_domain = \"\"\n",
    "\tdef PHD(self):\n",
    "\t\tprint(self.phd_domain)\n",
    "class DEPT:\n",
    "\tdept = \"\"\n",
    "\tdef DEPT(self):\n",
    "\t\tprint(self.dept)\n",
    "class faculty(PHD, DEPT):\n",
    "\tdef parents(self):\n",
    "\t\tprint(\"PHD Domain :\", self.phd_domain)\n",
    "\t\tprint(\"department :\", self.dept)\n",
    "s1 = faculty()\n",
    "s1.phd_domain = \"Artifical Intelligence\"\n",
    "s1.dept = \"Computaional science\"\n",
    "s1.parents()\n"
   ]
  },
  {
   "cell_type": "code",
   "execution_count": 7,
   "metadata": {},
   "outputs": [
    {
     "name": "stdout",
     "output_type": "stream",
     "text": [
      "Dean name : Dr. Joseph\n",
      "HOD name : Dr. Ashok\n",
      "Faculty name : Dr. Nisha\n"
     ]
    }
   ],
   "source": [
    "# multilevel inheritance\n",
    "class dean:\n",
    "\tdef __init__(self, dean_name):\n",
    "\t\tself.dean_name = dean_name\n",
    "\n",
    "class hod(dean):\n",
    "\tdef __init__(self, hod_name, dean_name):\n",
    "\t\tself.hod_name = hod_name\n",
    "\t\tdean.__init__(self, dean_name)\n",
    "\n",
    "class faculty(hod):\n",
    "\tdef __init__(self, faculty_name, hod_name, dean_name):\n",
    "\t\tself.faculty_name = faculty_name\n",
    "\t\thod.__init__(self, hod_name, dean_name)\n",
    "\n",
    "\tdef print_name(self):\n",
    "\t\tprint('Dean name :', self.dean_name)\n",
    "\t\tprint(\"HOD name :\", self.hod_name)\n",
    "\t\tprint(\"Faculty name :\", self.faculty_name)\n",
    "\n",
    "\n",
    "# Driver code\n",
    "s1 = faculty('Dr. Nisha', 'Dr. Ashok', 'Dr. Joseph')\n",
    "s1.print_name()"
   ]
  },
  {
   "cell_type": "code",
   "execution_count": 9,
   "metadata": {},
   "outputs": [
    {
     "name": "stdout",
     "output_type": "stream",
     "text": [
      "Dr Nisha\n",
      "Python programming\n",
      "Dr Nisha\n",
      "Web stack development\n"
     ]
    }
   ],
   "source": [
    "# Hierarchical inheritance\n",
    "\n",
    "class faculty:\n",
    "\tdef func1(self):\n",
    "\t\tprint(\"Dr Nisha\")\n",
    "\n",
    "class sub1(faculty):\n",
    "\tdef func2(self):\n",
    "\t\tprint(\"Python programming\")\n",
    "\n",
    "class sub2(faculty):\n",
    "\tdef func3(self):\n",
    "\t\tprint(\"Web stack development\")\n",
    "\n",
    "\n",
    "object1 = sub1()\n",
    "object1.func1()\n",
    "object1.func2()\n",
    "\n",
    "object2 = sub2()\n",
    "object2.func1()\n",
    "object2.func3()\n"
   ]
  }
 ],
 "metadata": {
  "kernelspec": {
   "display_name": "Python 3",
   "language": "python",
   "name": "python3"
  },
  "language_info": {
   "codemirror_mode": {
    "name": "ipython",
    "version": 3
   },
   "file_extension": ".py",
   "mimetype": "text/x-python",
   "name": "python",
   "nbconvert_exporter": "python",
   "pygments_lexer": "ipython3",
   "version": "3.9.7"
  },
  "orig_nbformat": 4
 },
 "nbformat": 4,
 "nbformat_minor": 2
}
