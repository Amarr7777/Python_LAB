{
 "cells": [
  {
   "cell_type": "markdown",
   "metadata": {},
   "source": [
    "Write a program using the Regular Exception and create a function that accepts a string and searches it for a valid phone number."
   ]
  },
  {
   "cell_type": "code",
   "execution_count": 13,
   "metadata": {},
   "outputs": [
    {
     "name": "stdout",
     "output_type": "stream",
     "text": [
      "valid phone number(s):  934-728-2244\n"
     ]
    }
   ],
   "source": [
    "# I'm Amar G Nath, pursuing my MCA in christ university connect with me 934-728-2244 or amargghh@gmail.com\n",
    "import re\n",
    "import string\n",
    "\n",
    "RE_phone = re.compile(\"^[a-z0-9]{3}-[a-z0-9]{3}-[a-z0-9]{4}$\")\n",
    "\n",
    "def phone():\n",
    "    str1 = str(input(\"enter your details\"))\n",
    "    li = list(str1.split(\" \"))\n",
    "    for i in range(0,len(li)):\n",
    "        if RE_phone.match(li[i]):\n",
    "            print(\"valid phone number(s): \",li[i])\n",
    "phone()"
   ]
  },
  {
   "cell_type": "markdown",
   "metadata": {},
   "source": [
    "Write a function that employs regular expressions to ensure the password given to the function is strong."
   ]
  },
  {
   "cell_type": "code",
   "execution_count": 19,
   "metadata": {},
   "outputs": [
    {
     "name": "stdout",
     "output_type": "stream",
     "text": [
      "Amar@487\n",
      "The password is strong\n"
     ]
    }
   ],
   "source": [
    "def password():\n",
    "    pass1 = str(input(\"enter your password\"))\n",
    "    print(pass1)\n",
    "    if re.fullmatch(r\"^[A-Za-z0-9@#$%^&+=]{8,}$\", pass1):\n",
    "        print(\"The password is strong\")\n",
    "    else:\n",
    "        print(\"The password is weak\")\n",
    "password()"
   ]
  }
 ],
 "metadata": {
  "kernelspec": {
   "display_name": "Python 3",
   "language": "python",
   "name": "python3"
  },
  "language_info": {
   "codemirror_mode": {
    "name": "ipython",
    "version": 3
   },
   "file_extension": ".py",
   "mimetype": "text/x-python",
   "name": "python",
   "nbconvert_exporter": "python",
   "pygments_lexer": "ipython3",
   "version": "3.9.7"
  },
  "orig_nbformat": 4
 },
 "nbformat": 4,
 "nbformat_minor": 2
}
