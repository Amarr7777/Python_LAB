{
 "cells": [
  {
   "cell_type": "markdown",
   "metadata": {},
   "source": [
    " Create two 3×3 matrices using the random function in Numpy and perform the following operations."
   ]
  },
  {
   "cell_type": "code",
   "execution_count": 22,
   "metadata": {},
   "outputs": [
    {
     "name": "stdout",
     "output_type": "stream",
     "text": [
      "Matrix 1:\n",
      "[[8.97100598e-04 5.86339271e-01 1.28607651e-01]\n",
      " [9.03334763e-01 6.39769682e-01 3.61980319e-01]\n",
      " [3.31281037e-01 4.41492531e-01 5.55913934e-01]]\n",
      "\n",
      "Matrix 2:\n",
      "[[0.93335269 0.8735558  0.02649619]\n",
      " [0.52337496 0.71446371 0.08262018]\n",
      " [0.98728076 0.88506032 0.54641086]]\n",
      "\n",
      "Dot product:\n",
      "[[0.43468446 0.53352733 0.11873984]\n",
      " [1.53534556 1.56657996 0.27458279]\n",
      " [1.08911131 1.09684023 0.34901129]]\n",
      "\n",
      "Matrix multiplication:\n",
      "[[0.43468446 0.53352733 0.11873984]\n",
      " [1.53534556 1.56657996 0.27458279]\n",
      " [1.08911131 1.09684023 0.34901129]]\n",
      "\n",
      "Element-wise product:\n",
      "[[0.00083731 0.51220007 0.00340761]\n",
      " [0.4727828  0.45709222 0.02990688]\n",
      " [0.32706739 0.39074752 0.30375741]]\n"
     ]
    }
   ],
   "source": [
    "import numpy as np\n",
    "\n",
    "m1 = np.random.rand(3, 3)\n",
    "m2 = np.random.rand(3, 3)\n",
    "\n",
    "dot = np.dot(m1, m2)\n",
    "mul = np.matmul(m1, m2)\n",
    "pro = np.multiply(m1, m2)  \n",
    "\n",
    "print(\"Matrix 1:\")\n",
    "print(m1)\n",
    "print()\n",
    "print(\"Matrix 2:\")\n",
    "print(m2)\n",
    "print()\n",
    "print(\"Dot product:\")\n",
    "print(dot)\n",
    "print()\n",
    "print(\"Matrix multiplication:\")\n",
    "print(mul)\n",
    "print()\n",
    "print(\"Element-wise product:\")  \n",
    "print(pro)\n"
   ]
  },
  {
   "cell_type": "markdown",
   "metadata": {},
   "source": [
    "Perform the following set operations using the Numpy functions.\n",
    "-Union\n",
    "-Intersection\n",
    "-Set Difference\n",
    "-XOR"
   ]
  },
  {
   "cell_type": "code",
   "execution_count": 12,
   "metadata": {},
   "outputs": [
    {
     "name": "stdout",
     "output_type": "stream",
     "text": [
      "Union of two arrays : [10 20 30 40 60 80]\n",
      "Intersection of two arrays : [20 40]\n",
      "Set difference of two arrays : [10 30]\n",
      "XOR of two arrays : [ 30  60  34 120]\n"
     ]
    }
   ],
   "source": [
    "arr1 = np.array([10, 20, 30, 40])\n",
    "arr2 = np.array([20, 40, 60, 80])\n",
    "\n",
    "print(\"Union of two arrays :\", np.union1d(arr1, arr2))\n",
    "print(\"Intersection of two arrays :\", np.intersect1d(arr1, arr2))\n",
    "print(\"Set difference of two arrays :\", np.setdiff1d(arr1, arr2))\n",
    "print(\"XOR of two arrays :\", np.bitwise_xor(arr1, arr2))"
   ]
  },
  {
   "cell_type": "markdown",
   "metadata": {},
   "source": [
    " Create a 1D array using Random function and perform the following operations.\n",
    " -Cumulative sum\n",
    " -Cumulative Product\n",
    " -Discrete difference (with n=3)\n",
    " -Find the unique elements from the array"
   ]
  },
  {
   "cell_type": "code",
   "execution_count": 44,
   "metadata": {},
   "outputs": [
    {
     "name": "stdout",
     "output_type": "stream",
     "text": [
      "[2 5 2 2 9 6 5 5 2 3]\n",
      "\n",
      "Cumulative sum:  41\n",
      "\n",
      "Cumulative product:  9765625\n",
      "\n",
      "Discrete Difference (n=3): [  9   4 -17  12  -1  -4   7]\n",
      "\n",
      "Unique Elements in the Difference Array: [-17  -4  -1   4   7   9  12]\n"
     ]
    }
   ],
   "source": [
    "arr1d = np.random.randint(10, size=10)\n",
    "print(arr1d)\n",
    "sum = 0\n",
    "product = 1\n",
    "for i in range(0,len(arr1d)):\n",
    "    sum = sum+arr1d[i]\n",
    "    product = product*arr1d[1]\n",
    "print(\"\\nCumulative sum: \",sum)\n",
    "print(\"\\nCumulative product: \",product)\n",
    "diff = np.diff(arr1d, n=3)\n",
    "print(\"\\nDiscrete Difference (n=3):\", diff)\n",
    "unique_elements = np.unique(diff)\n",
    "print(\"\\nUnique Elements in the Difference Array:\", unique_elements)"
   ]
  },
  {
   "cell_type": "markdown",
   "metadata": {},
   "source": [
    " Create two 1D array and perform the Addition using zip(), add() and user defined function (frompyfunc())"
   ]
  },
  {
   "cell_type": "code",
   "execution_count": 48,
   "metadata": {},
   "outputs": [
    {
     "name": "stdout",
     "output_type": "stream",
     "text": [
      "Array 1: [1 2 3 4 5]\n",
      "Array 2: [ 6  7  8  9 10]\n",
      "Addition using user-defined function (frompyfunc()): [ 7  9 11 13 15]\n",
      "Addition using zip(): [7, 9, 11, 13, 15]\n",
      "Addition using np.add(): [ 7  9 11 13 15]\n"
     ]
    }
   ],
   "source": [
    "array1 = np.array([1, 2, 3, 4, 5])\n",
    "array2 = np.array([6, 7, 8, 9, 10])\n",
    "print(\"Array 1:\", array1)\n",
    "print(\"Array 2:\", array2)\n",
    "\n",
    "def add_elements(x, y):\n",
    "    print(\"Addition using user-defined function (frompyfunc()):\", x+y)\n",
    "add_elements(array1,array2)\n",
    "\n",
    "result_zip = [x + y for x, y in zip(array1, array2)]\n",
    "print(\"Addition using zip():\", result_zip)\n",
    "\n",
    "result_np_add = np.add(array1, array2)\n",
    "print(\"Addition using np.add():\", result_np_add)"
   ]
  },
  {
   "cell_type": "markdown",
   "metadata": {},
   "source": [
    "Find the LCM (Least Common Multiple) and GCD (Greatest Common Divisor) of an array of elements using reduce()."
   ]
  },
  {
   "cell_type": "code",
   "execution_count": 45,
   "metadata": {},
   "outputs": [
    {
     "name": "stdout",
     "output_type": "stream",
     "text": [
      "Array of Elements: [12 18 24 36]\n",
      "LCM of the Elements: 72\n",
      "GCD of the Elements: 6\n"
     ]
    }
   ],
   "source": [
    "from functools import reduce\n",
    "from math import gcd\n",
    "\n",
    "def lcm(x, y):\n",
    "    return x * y // gcd(x, y)\n",
    "\n",
    "def gcd_reduce(arr):\n",
    "    return reduce(gcd, arr)\n",
    "\n",
    "elements = np.array([12, 18, 24, 36])\n",
    "lcm_result = reduce(lcm, elements)\n",
    "gcd_result = gcd_reduce(elements)\n",
    "\n",
    "print(\"Array of Elements:\", elements)\n",
    "print(\"LCM of the Elements:\", lcm_result)\n",
    "print(\"GCD of the Elements:\", gcd_result)"
   ]
  }
 ],
 "metadata": {
  "kernelspec": {
   "display_name": "Python 3",
   "language": "python",
   "name": "python3"
  },
  "language_info": {
   "codemirror_mode": {
    "name": "ipython",
    "version": 3
   },
   "file_extension": ".py",
   "mimetype": "text/x-python",
   "name": "python",
   "nbconvert_exporter": "python",
   "pygments_lexer": "ipython3",
   "version": "3.9.7"
  },
  "orig_nbformat": 4
 },
 "nbformat": 4,
 "nbformat_minor": 2
}
