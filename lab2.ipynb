{
 "cells": [
  {
   "cell_type": "markdown",
   "metadata": {},
   "source": [
    "Creating the list"
   ]
  },
  {
   "cell_type": "code",
   "execution_count": 1,
   "metadata": {},
   "outputs": [
    {
     "name": "stdout",
     "output_type": "stream",
     "text": [
      "My List: ['Riya Baby', 2023, 'Computational Science', 30, ('cms', 'ems', 'bca'), {'PY', 'WSD', 'COD'}, {'key': 'Proffesor'}]\n"
     ]
    }
   ],
   "source": [
    "teacher_details = []\n",
    "#append\n",
    "teacher_details.append(\"Riya Baby\")\n",
    "teacher_details.append(2023)\n",
    "#insert\n",
    "teacher_details.insert(2, \"Computational Science\")\n",
    "#extend\n",
    "age = [30]\n",
    "teacher_details.extend(age)\n",
    "#tuple\n",
    "teacher_details.append((\"cms\", \"ems\", \"bca\"))\n",
    "#set\n",
    "subjects = {\"WSD\", \"PY\",\"COD\" }\n",
    "teacher_details.append(subjects)\n",
    "#dictionary\n",
    "designation = {\"key\": \"Proffesor\"}\n",
    "teacher_details.append(designation)\n",
    "print(\"My List:\", teacher_details)\n"
   ]
  },
  {
   "cell_type": "markdown",
   "metadata": {},
   "source": [
    "Write a program to swap the first and last elements in a list."
   ]
  },
  {
   "cell_type": "code",
   "execution_count": 2,
   "metadata": {},
   "outputs": [
    {
     "name": "stdout",
     "output_type": "stream",
     "text": [
      "Original list: ['Riya Baby', 2023, 'Computational Science', 30, ('cms', 'ems', 'bca'), {'PY', 'WSD', 'COD'}, {'key': 'Proffesor'}]\n",
      "List after swapping: [{'key': 'Proffesor'}, 2023, 'Computational Science', 30, ('cms', 'ems', 'bca'), {'PY', 'WSD', 'COD'}, 'Riya Baby']\n"
     ]
    }
   ],
   "source": [
    "print(\"Original list:\", teacher_details)\n",
    "if len(teacher_details) >= 2:\n",
    "        teacher_details[0], teacher_details[-1] = teacher_details[-1], teacher_details[0]\n",
    "print(\"List after swapping:\", teacher_details)"
   ]
  },
  {
   "cell_type": "markdown",
   "metadata": {},
   "source": [
    "Write a program to find the sum of the digits in a list"
   ]
  },
  {
   "cell_type": "code",
   "execution_count": 3,
   "metadata": {},
   "outputs": [
    {
     "name": "stdout",
     "output_type": "stream",
     "text": [
      "Sum :  2053\n"
     ]
    }
   ],
   "source": [
    "sum = 0\n",
    "for i in range(0,len(teacher_details)):\n",
    "  if isinstance(teacher_details[i], int):\n",
    "    sum = sum+teacher_details[i]\n",
    "print(\"Sum : \",sum)"
   ]
  },
  {
   "cell_type": "markdown",
   "metadata": {},
   "source": [
    "Write a program to find the smallest element in a list."
   ]
  },
  {
   "cell_type": "code",
   "execution_count": 4,
   "metadata": {},
   "outputs": [
    {
     "name": "stdout",
     "output_type": "stream",
     "text": [
      "largest element is:  Computational Science\n"
     ]
    }
   ],
   "source": [
    "for i in range(0,len(teacher_details)):\n",
    "  if isinstance(teacher_details[i], int):\n",
    "    teacher_details[i] = str(teacher_details[i])\n",
    "max = max(teacher_details, key=len)\n",
    "print(\"largest element is: \",max)"
   ]
  },
  {
   "cell_type": "markdown",
   "metadata": {},
   "source": [
    "Sort the dictionaries in ascending order based on the Key of the dictionary."
   ]
  },
  {
   "cell_type": "code",
   "execution_count": 5,
   "metadata": {},
   "outputs": [
    {
     "name": "stdout",
     "output_type": "stream",
     "text": [
      "Sorted dictionary by keys: {'Ansa': 'COD', 'Asish': 'PY', 'Riya': 'WSD'}\n"
     ]
    }
   ],
   "source": [
    "unsorted_dict = {\"Riya\": \"WSD\", \"Ansa\": \"COD\", \"Asish\": \"PY\"}\n",
    "sorted_dict = dict(sorted(unsorted_dict.items()))\n",
    "print(\"Sorted dictionary by keys:\", sorted_dict)"
   ]
  },
  {
   "cell_type": "markdown",
   "metadata": {},
   "source": [
    "Create the dictionary with Numeric as Value in Key Value pair and find the sum of all the values in the Dictionary."
   ]
  },
  {
   "cell_type": "code",
   "execution_count": 1,
   "metadata": {},
   "outputs": [
    {
     "name": "stdout",
     "output_type": "stream",
     "text": [
      "Dictionary with numeric values: {'a': 10, 'b': 20, 'c': 30}\n",
      "Sum of values: 60\n"
     ]
    }
   ],
   "source": [
    "numeric_dict = {\"a\": 10, \"b\": 20, \"c\": 30}\n",
    "sum_of_values = sum(numeric_dict.values())\n",
    "print(\"Dictionary with numeric values:\", numeric_dict)\n",
    "print(\"Sum of values:\", sum_of_values)"
   ]
  },
  {
   "cell_type": "markdown",
   "metadata": {},
   "source": [
    "Write a Python code to demonstrate the sorting in descending order of values with lambda function."
   ]
  },
  {
   "cell_type": "code",
   "execution_count": 7,
   "metadata": {},
   "outputs": [
    {
     "name": "stdout",
     "output_type": "stream",
     "text": [
      "Sorted dictionary by values in descending order: {'a': 3, 'c': 2, 'b': 1}\n"
     ]
    }
   ],
   "source": [
    "unsorted_dict = {\"a\": 3, \"b\": 1, \"c\": 2}\n",
    "sorted_dict = dict(sorted(unsorted_dict.items(), key=lambda item: item[1], reverse=True))\n",
    "print(\"Sorted dictionary by values in descending order:\", sorted_dict)"
   ]
  }
 ],
 "metadata": {
  "kernelspec": {
   "display_name": "Python 3",
   "language": "python",
   "name": "python3"
  },
  "language_info": {
   "codemirror_mode": {
    "name": "ipython",
    "version": 3
   },
   "file_extension": ".py",
   "mimetype": "text/x-python",
   "name": "python",
   "nbconvert_exporter": "python",
   "pygments_lexer": "ipython3",
   "version": "3.9.7"
  },
  "orig_nbformat": 4
 },
 "nbformat": 4,
 "nbformat_minor": 2
}
