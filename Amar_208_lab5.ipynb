{
 "cells": [
  {
   "cell_type": "markdown",
   "metadata": {},
   "source": [
    "Write a program to handle the exception of ZeroDivisionError."
   ]
  },
  {
   "cell_type": "code",
   "execution_count": 7,
   "metadata": {},
   "outputs": [
    {
     "name": "stdout",
     "output_type": "stream",
     "text": [
      "Division by zero is not possible\n"
     ]
    }
   ],
   "source": [
    "def div():\n",
    "    try:\n",
    "        a = int(input(\"Enter the dividend: \"))\n",
    "        b = int(input(\"Enter the divisor: \"))\n",
    "        c = a/b\n",
    "        print(\"Quiotent is: \",c)\n",
    "    except ZeroDivisionError:\n",
    "        print(\"Division by zero is not possible\")\n",
    "\n",
    "div()"
   ]
  },
  {
   "cell_type": "markdown",
   "metadata": {},
   "source": [
    "Write a program to handle the exception of IndexError"
   ]
  },
  {
   "cell_type": "code",
   "execution_count": 9,
   "metadata": {},
   "outputs": [
    {
     "name": "stdout",
     "output_type": "stream",
     "text": [
      "Index error\n",
      "\n",
      "printing list\n",
      " ['riya', 'wsd', 35]\n"
     ]
    }
   ],
   "source": [
    "try:\n",
    "    lst = ['riya','wsd',35]\n",
    "    a =  int(input(\"enter the index: \"))\n",
    "    print(\"value in the index: \",lst[a])\n",
    "except IndexError:\n",
    "    print(\"Index error\\n\")\n",
    "finally:\n",
    "    print(\"printing list\\n\",lst)"
   ]
  }
 ],
 "metadata": {
  "kernelspec": {
   "display_name": "Python 3",
   "language": "python",
   "name": "python3"
  },
  "language_info": {
   "codemirror_mode": {
    "name": "ipython",
    "version": 3
   },
   "file_extension": ".py",
   "mimetype": "text/x-python",
   "name": "python",
   "nbconvert_exporter": "python",
   "pygments_lexer": "ipython3",
   "version": "3.9.7"
  },
  "orig_nbformat": 4
 },
 "nbformat": 4,
 "nbformat_minor": 2
}
