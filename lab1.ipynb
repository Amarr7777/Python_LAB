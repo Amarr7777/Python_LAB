{
 "cells": [
  {
   "cell_type": "markdown",
   "metadata": {},
   "source": [
    "Greetings, I am Amar G Nath, a dedicated student currently enrolled in the MCA (Master of Computer Applications) program. My academic journey commenced at CMS, where I pursued my undergraduate studies. Throughout my educational path, I have consistently demonstrated a commitment to excellence, achieving 86 % in my 10th-grade examinations and an impressive 90 % in my 12th-grade assessments. My chosen domain of interest is faculty management, a dynamic field that combines my passion for computer science with the intricacies of managing academic personnel. With a strong foundation in technology and an enthusiasm for optimizing administrative processes, I am excited to delve into the challenges and opportunities that the faculty management domain presents, leveraging my skills to contribute meaningfully to this sphere."
   ]
  },
  {
   "cell_type": "markdown",
   "metadata": {},
   "source": [
    "Write a python program to count the frequency of any specific word (in your domain) in the paragraph."
   ]
  },
  {
   "cell_type": "code",
   "execution_count": 3,
   "metadata": {},
   "outputs": [
    {
     "name": "stdout",
     "output_type": "stream",
     "text": [
      "Frequency of  i  is  4\n"
     ]
    }
   ],
   "source": [
    "para = input(\"Write a paragraph about introducing you and your selected domain:\\n\")\n",
    "words = []\n",
    "words = para.lower().split()\n",
    "word = input(\"Enter the word for which you need the frequency for: \")\n",
    "count = 0\n",
    "for i in range(0,len(words)):\n",
    "  if words[i] == word:\n",
    "    count = count+1\n",
    "print(\"Frequency of \",word,\" is \",count)"
   ]
  },
  {
   "cell_type": "markdown",
   "metadata": {},
   "source": [
    "Write a python program to display all the datatypes of selected specific elements in the paragraph. "
   ]
  },
  {
   "cell_type": "code",
   "execution_count": 4,
   "metadata": {},
   "outputs": [
    {
     "name": "stdout",
     "output_type": "stream",
     "text": [
      "Datatype of  amar  is  <class 'str'>\n"
     ]
    }
   ],
   "source": [
    "type_ele = input(\"Enter the word for which you need the data type for: \")\n",
    "type_ele.lower()\n",
    "count = 0\n",
    "for i in range(0,len(words)):\n",
    "  if type_ele == words[i]:\n",
    "    datatype = type(words[i])\n",
    "  \n",
    "print(\"Datatype of \",type_ele,\" is \",datatype)"
   ]
  },
  {
   "cell_type": "markdown",
   "metadata": {},
   "source": [
    "Write a python program to count the number of alphabets, numeric and other special symbols in the paragraph."
   ]
  },
  {
   "cell_type": "code",
   "execution_count": 6,
   "metadata": {},
   "outputs": [
    {
     "name": "stdout",
     "output_type": "stream",
     "text": [
      "['greetings,', 'i', 'am', 'amar', 'g', 'nath,', 'a', 'dedicated', 'student', 'currently', 'enrolled', 'in', 'the', 'mca', '(master', 'of', 'computer', 'applications)', 'program.', 'my', 'academic', 'journey', 'commenced', 'at', 'cms,', 'where', 'i', 'pursued', 'my', 'undergraduate', 'studies.', 'throughout', 'my', 'educational', 'path,', 'i', 'have', 'consistently', 'demonstrated', 'a', 'commitment', 'to', 'excellence,', 'achieving', '86', '%', 'in', 'my', '10th-grade', 'examinations', 'and', 'an', 'impressive', '90', '%', 'in', 'my', '12th-grade', 'assessments.', 'my', 'chosen', 'domain', 'of', 'interest', 'is', 'faculty', 'management,', 'a', 'dynamic', 'field', 'that', 'combines', 'my', 'passion', 'for', 'computer', 'science', 'with', 'the', 'intricacies', 'of', 'managing', 'academic', 'personnel.', 'with', 'a', 'strong', 'foundation', 'in', 'technology', 'and', 'an', 'enthusiasm', 'for', 'optimizing', 'administrative', 'processes,', 'i', 'am', 'excited', 'to', 'delve', 'into', 'the', 'challenges', 'and', 'opportunities', 'that', 'the', 'faculty', 'management', 'domain', 'presents,', 'leveraging', 'my', 'skills', 'to', 'contribute', 'meaningfully', 'to', 'this', 'sphere.']\n",
      "Frequency of alphabets:  101 \n",
      "Frequency of number:  2 \n",
      "Frequency of special symbols:  19\n"
     ]
    }
   ],
   "source": [
    "para = input(\"Write a paragraph about introducing you and your selected domain:\\n\")\n",
    "words = []\n",
    "words = para.lower().split()\n",
    "print(words)\n",
    "alpha_count=0\n",
    "num_count=0\n",
    "spl_count=0\n",
    "for i in range(0,len(words)):\n",
    "  if words[i].isnumeric():\n",
    "    num_count=num_count+1\n",
    "  elif words[i].isalpha():\n",
    "    alpha_count=alpha_count+1\n",
    "  else:\n",
    "    spl_count = spl_count+1\n",
    "print(\"Frequency of alphabets: \",alpha_count,\"\\nFrequency of number: \",num_count,\"\\nFrequency of special symbols: \",spl_count)"
   ]
  },
  {
   "cell_type": "markdown",
   "metadata": {},
   "source": [
    "Create a Set with elements that consists of various data types (int, float, string, Boolean, etc. from your domain) and \n",
    "perform the functions pop(), clear(), discard() and del. "
   ]
  },
  {
   "cell_type": "code",
   "execution_count": 7,
   "metadata": {},
   "outputs": [
    {
     "name": "stdout",
     "output_type": "stream",
     "text": [
      "Popped Element: 2023\n",
      "Updated Set after pop: {'Computational Science', ('cms', 'ems', 'bca'), 30, 'Riya Baby'}\n",
      "Updated Set after discard: {'Computational Science', ('cms', 'ems', 'bca'), 30, 'Riya Baby'}\n",
      "Set after clear: set()\n"
     ]
    }
   ],
   "source": [
    "teacher_details = {'Riya Baby', 2023, 'Computational Science', 30, ('cms', 'ems', 'bca')}\n",
    "\n",
    "#pop()\n",
    "popped_element = teacher_details.pop() \n",
    "print(\"Popped Element:\", popped_element)\n",
    "print(\"Updated Set after pop:\", teacher_details)\n",
    "\n",
    "# discard() \n",
    "teacher_details.discard(2023)\n",
    "print(\"Updated Set after discard:\", teacher_details)\n",
    "\n",
    "#clear()\n",
    "teacher_details.clear()  \n",
    "print(\"Set after clear:\", teacher_details)\n",
    "\n",
    "#del\n",
    "del teacher_details"
   ]
  },
  {
   "cell_type": "markdown",
   "metadata": {},
   "source": [
    "Update the Set with minimum 5 string attributes of your domain and arrange the Set in descending order."
   ]
  },
  {
   "cell_type": "code",
   "execution_count": 8,
   "metadata": {},
   "outputs": [
    {
     "name": "stdout",
     "output_type": "stream",
     "text": [
      "updated set {'2023', '30', 'WSD', 'Computational Science', 'Riya Baby'}\n",
      "['WSD', 'Riya Baby', 'Computational Science', '30', '2023']\n"
     ]
    }
   ],
   "source": [
    "teacher_details_1 = {'Riya Baby', \"2023\", 'Computational Science', \"30\"}\n",
    "teacher_details_1.update([\"WSD\"])\n",
    "print(\"updated set\",teacher_details_1)\n",
    "sorted = sorted(teacher_details_1,reverse=True)\n",
    "print(sorted)"
   ]
  },
  {
   "cell_type": "markdown",
   "metadata": {},
   "source": [
    "Create a Tuple and Execute the packing and unpacking operations of tuples using the attributes of your domain."
   ]
  },
  {
   "cell_type": "code",
   "execution_count": 9,
   "metadata": {},
   "outputs": [
    {
     "name": "stdout",
     "output_type": "stream",
     "text": [
      "packed tuple:  ('riya baby', 20124)\n",
      "riya baby\n",
      "20124\n"
     ]
    }
   ],
   "source": [
    "teacher_details = (\"riya baby\",20124)\n",
    "print(\"packed tuple: \",teacher_details)\n",
    "Name,teacher_id = teacher_details\n",
    "print(Name)\n",
    "print(teacher_id)"
   ]
  },
  {
   "cell_type": "markdown",
   "metadata": {},
   "source": [
    "Enter your domain name as characters and count any number of characters and print the count "
   ]
  },
  {
   "cell_type": "code",
   "execution_count": 10,
   "metadata": {},
   "outputs": [
    {
     "name": "stdout",
     "output_type": "stream",
     "text": [
      "Count is :  17\n"
     ]
    }
   ],
   "source": [
    "d_name = ['f','a','c','u','l','t','y','m','a','n','a','g','e','m','e','n','t']\n",
    "count = 0\n",
    "for i in range(0,len(d_name)):\n",
    "  count = count+1\n",
    "print(\"Count is : \",count)"
   ]
  },
  {
   "cell_type": "markdown",
   "metadata": {},
   "source": [
    "Enter your domain name, execute all the slicing possibilities and also negative indexing."
   ]
  },
  {
   "cell_type": "code",
   "execution_count": 11,
   "metadata": {},
   "outputs": [
    {
     "name": "stdout",
     "output_type": "stream",
     "text": [
      "First word:  ['f', 'a', 'c', 'u', 'l', 't', 'y']\n",
      "First word:  ['m', 'a', 'n', 'a', 'g', 'e', 'm', 'e', 'n', 't']\n",
      "last letter:  t\n",
      "fifth letter:  y\n"
     ]
    }
   ],
   "source": [
    "f_word = d_name[0:7]\n",
    "print(\"First word: \",f_word)\n",
    "l_word = d_name[7:]\n",
    "print(\"First word: \",l_word)\n",
    "l_letter = d_name[-1]\n",
    "print(\"last letter: \",l_letter)\n",
    "fifth_letter =d_name[6]\n",
    "print(\"fifth letter: \",fifth_letter)"
   ]
  }
 ],
 "metadata": {
  "kernelspec": {
   "display_name": "Python 3",
   "language": "python",
   "name": "python3"
  },
  "language_info": {
   "codemirror_mode": {
    "name": "ipython",
    "version": 3
   },
   "file_extension": ".py",
   "mimetype": "text/x-python",
   "name": "python",
   "nbconvert_exporter": "python",
   "pygments_lexer": "ipython3",
   "version": "3.9.7"
  },
  "orig_nbformat": 4
 },
 "nbformat": 4,
 "nbformat_minor": 2
}
