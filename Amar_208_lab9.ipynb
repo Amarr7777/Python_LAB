{
 "cells": [
  {
   "cell_type": "code",
   "execution_count": 1,
   "metadata": {},
   "outputs": [],
   "source": [
    "import numpy as np"
   ]
  },
  {
   "cell_type": "markdown",
   "metadata": {},
   "source": [
    "Write a program to distinguish between Array Indexing and Fancy Indexing."
   ]
  },
  {
   "cell_type": "code",
   "execution_count": 4,
   "metadata": {},
   "outputs": [
    {
     "name": "stdout",
     "output_type": "stream",
     "text": [
      "Array Indexing:  2\n",
      "Fancy indexing:  [4 7 1]\n"
     ]
    }
   ],
   "source": [
    "\n",
    "arr=np.array([4,5,7,1,2])\n",
    "print(\"Array Indexing: \",arr[4])\n",
    "selected_index = arr[[0,2,3]]\n",
    "print(\"Fancy indexing: \",selected_index)"
   ]
  },
  {
   "cell_type": "markdown",
   "metadata": {},
   "source": [
    "Execute the 2D array Slicing."
   ]
  },
  {
   "cell_type": "code",
   "execution_count": 17,
   "metadata": {},
   "outputs": [
    {
     "name": "stdout",
     "output_type": "stream",
     "text": [
      "\n",
      "2D Array\n",
      "\n",
      "[[4 4 4]\n",
      " [5 5 5]\n",
      " [6 6 6]]\n",
      "\n",
      "Slicing\n",
      "\n",
      "First Row:  [4 4 4]\n",
      "last row:  [6 6 6]\n",
      "First row first two element:  [4 4]\n",
      "Third row last element:  6\n"
     ]
    }
   ],
   "source": [
    "arr2d = np.array([[4,4,4],[5,5,5],[6,6,6]])\n",
    "print(\"\\n2D Array\\n\")\n",
    "print(arr2d)\n",
    "print(\"\\nSlicing\\n\")\n",
    "print(\"First Row: \",arr2d[0])\n",
    "print(\"last row: \",arr2d[-1])\n",
    "print(\"First row first two element: \",arr2d[0][0:2])\n",
    "print(\"Third row last element: \",arr2d[2][-1])"
   ]
  },
  {
   "cell_type": "markdown",
   "metadata": {},
   "source": [
    "Create the 5-Dimensional arrays using ‘ndmin’."
   ]
  },
  {
   "cell_type": "code",
   "execution_count": 18,
   "metadata": {},
   "outputs": [
    {
     "name": "stdout",
     "output_type": "stream",
     "text": [
      "[[[[[1 2 3 4 5]]]]]\n"
     ]
    }
   ],
   "source": [
    "import numpy as np\n",
    "a = np.array([1, 2, 3, 4, 5], ndmin=5)\n",
    "print(a)"
   ]
  },
  {
   "cell_type": "markdown",
   "metadata": {},
   "source": [
    "Reshape the array from 1-D to 2-D array."
   ]
  },
  {
   "cell_type": "code",
   "execution_count": 21,
   "metadata": {},
   "outputs": [
    {
     "name": "stdout",
     "output_type": "stream",
     "text": [
      "\n",
      "1D-array\n",
      "\n",
      "[1 2 3 4 5 6]\n",
      "\n",
      "2x3-matrix\n",
      "\n",
      "[[1 2 3]\n",
      " [4 5 6]]\n"
     ]
    }
   ],
   "source": [
    "import numpy as np\n",
    "a = np.array([1, 2, 3, 4, 5, 6])\n",
    "print(\"\\n1D-array\\n\")\n",
    "print(a)\n",
    "print(\"\\n2x3-matrix\\n\")\n",
    "b = a.reshape(2, 3)\n",
    "print(b)"
   ]
  },
  {
   "cell_type": "markdown",
   "metadata": {},
   "source": [
    "Perform the Stack functions in Numpy arrays – Stack(), hstack(), vstack(), and dstack()."
   ]
  },
  {
   "cell_type": "code",
   "execution_count": 1,
   "metadata": {},
   "outputs": [
    {
     "name": "stdout",
     "output_type": "stream",
     "text": [
      "Stacked: \n",
      " [[1 2 3]\n",
      " [4 5 6]]\n",
      "hStacked: \n",
      " [1 2 3 4 5 6]\n",
      "vStacked: \n",
      " [[1 2 3]\n",
      " [4 5 6]]\n",
      "dStacked: \n",
      " [[[1 4]\n",
      "  [2 5]\n",
      "  [3 6]]]\n"
     ]
    }
   ],
   "source": [
    "import numpy as np\n",
    "\n",
    "\n",
    "arr1 = np.array([1, 2, 3])\n",
    "arr2 = np.array([4, 5, 6])\n",
    "\n",
    "stacked_arr = np.stack((arr1, arr2), axis=0)\n",
    "hstacked_arr = np.hstack((arr1, arr2))\n",
    "vstacked_arr = np.vstack((arr1, arr2))\n",
    "dstacked_arr = np.dstack((arr1, arr2))\n",
    "print(\"Stacked: \\n\",stacked_arr)\n",
    "print(\"hStacked: \\n\",hstacked_arr)\n",
    "print(\"vStacked: \\n\",vstacked_arr)\n",
    "print(\"dStacked: \\n\",dstacked_arr)\n"
   ]
  },
  {
   "cell_type": "markdown",
   "metadata": {},
   "source": [
    "Perform the searchsort method in Numpy array."
   ]
  },
  {
   "cell_type": "code",
   "execution_count": 8,
   "metadata": {},
   "outputs": [
    {
     "name": "stdout",
     "output_type": "stream",
     "text": [
      "Value 4 should be inserted at index 1 to maintain the sorted order.\n"
     ]
    }
   ],
   "source": [
    "sorted_arr = np.array([2, 4, 6, 8, 10])\n",
    "n = int(input(\"Enter the element tobe searched: \"))\n",
    "index_to_insert = np.searchsorted(sorted_arr, n)\n",
    "\n",
    "print(f\"Value {n} should be inserted at index {index_to_insert} to maintain the sorted order.\")\n"
   ]
  },
  {
   "cell_type": "markdown",
   "metadata": {},
   "source": [
    "Create Numpy Structured array using your domain features."
   ]
  },
  {
   "cell_type": "code",
   "execution_count": 12,
   "metadata": {},
   "outputs": [
    {
     "name": "stdout",
     "output_type": "stream",
     "text": [
      "[('John Doe', 'Computer Science', 75000.,  5)\n",
      " ('Jane Smith', 'Mathematics', 68000.,  8)\n",
      " ('Alice Johnson', 'Physics', 82000., 10)\n",
      " ('Bob Wilson', 'Chemistry', 70000.,  7)]\n"
     ]
    }
   ],
   "source": [
    "faculty_dtype = np.dtype([\n",
    "    ('name', 'U30'),         \n",
    "    ('department', 'U30'),  \n",
    "    ('salary', float),       \n",
    "    ('experience_years', int) \n",
    "])\n",
    "\n",
    "faculty_data = np.array([], dtype=faculty_dtype)\n",
    "\n",
    "faculty_data = np.append(faculty_data, np.array([('John Doe', 'Computer Science', 75000.00, 5)], dtype=faculty_dtype))\n",
    "faculty_data = np.append(faculty_data, np.array([('Jane Smith', 'Mathematics', 68000.00, 8)], dtype=faculty_dtype))\n",
    "faculty_data = np.append(faculty_data, np.array([('Alice Johnson', 'Physics', 82000.00, 10)], dtype=faculty_dtype))\n",
    "faculty_data = np.append(faculty_data, np.array([('Bob Wilson', 'Chemistry', 70000.00, 7)], dtype=faculty_dtype))\n",
    "\n",
    "print(faculty_data)\n"
   ]
  },
  {
   "cell_type": "markdown",
   "metadata": {},
   "source": [
    "Create Data frame using List and Dictionary."
   ]
  },
  {
   "cell_type": "code",
   "execution_count": 2,
   "metadata": {},
   "outputs": [],
   "source": [
    "import pandas as pd"
   ]
  },
  {
   "cell_type": "code",
   "execution_count": 14,
   "metadata": {},
   "outputs": [
    {
     "name": "stdout",
     "output_type": "stream",
     "text": [
      "DataFrame created from dictionary:\n",
      "    Name  Age Department\n",
      "0   John   28         HR\n",
      "1  Alice   24         IT\n",
      "2    Bob   32    Finance\n",
      "3    Eve   30  Marketing\n",
      "\n",
      "DataFrame created from lists and a dictionary:\n",
      "    Name  Age Department\n",
      "0   John   28         HR\n",
      "1  Alice   24         IT\n",
      "2    Bob   32    Finance\n",
      "3    Eve   30  Marketing\n"
     ]
    }
   ],
   "source": [
    "data = {\n",
    "    'Name': ['John', 'Alice', 'Bob', 'Eve'],\n",
    "    'Age': [28, 24, 32, 30],\n",
    "    'Department': ['HR', 'IT', 'Finance', 'Marketing']\n",
    "}\n",
    "\n",
    "df_from_dict = pd.DataFrame(data)\n",
    "\n",
    "print(\"DataFrame created from dictionary:\")\n",
    "print(df_from_dict)\n",
    "\n",
    "names = ['John', 'Alice', 'Bob', 'Eve']\n",
    "ages = [28, 24, 32, 30]\n",
    "departments = ['HR', 'IT', 'Finance', 'Marketing']\n",
    "\n",
    "data_from_lists = {\n",
    "    'Name': names,\n",
    "    'Age': ages,\n",
    "    'Department': departments\n",
    "}\n",
    "\n",
    "df_from_lists = pd.DataFrame(data_from_lists)\n",
    "\n",
    "\n",
    "print(\"\\nDataFrame created from lists and a dictionary:\")\n",
    "print(df_from_lists)\n"
   ]
  },
  {
   "cell_type": "markdown",
   "metadata": {},
   "source": [
    "Create Data frame on your Domain area and perform the following operations to find and eliminate the\n",
    "missing data from the dataset.\n",
    "  \n",
    "• isnull()\n",
    "• notnull()\n",
    "• dropna()\n",
    "• fillna()\n",
    "• replace()\n",
    "• interpolate()"
   ]
  },
  {
   "cell_type": "code",
   "execution_count": 16,
   "metadata": {},
   "outputs": [
    {
     "name": "stdout",
     "output_type": "stream",
     "text": [
      "<class 'pandas.core.frame.DataFrame'>\n",
      "RangeIndex: 49 entries, 0 to 48\n",
      "Data columns (total 3 columns):\n",
      " #   Column          Non-Null Count  Dtype \n",
      "---  ------          --------------  ----- \n",
      " 0   Given_name      49 non-null     object\n",
      " 1   Position_title  48 non-null     object\n",
      " 2   Salary_paid     48 non-null     object\n",
      "dtypes: object(3)\n",
      "memory usage: 1.3+ KB\n",
      "check for missing values using isnull()\n",
      "    Given_name  Position_title  Salary_paid\n",
      "0        False           False         True\n",
      "1        False           False         True\n",
      "2        False           False         True\n",
      "3        False           False         True\n",
      "4        False           False         True\n",
      "5        False           False         True\n",
      "6        False           False         True\n",
      "7        False           False         True\n",
      "8        False           False         True\n",
      "9        False           False         True\n",
      "10       False           False         True\n",
      "11       False           False         True\n",
      "12       False           False         True\n",
      "13       False           False         True\n",
      "14       False           False         True\n",
      "15       False           False         True\n",
      "16       False           False         True\n",
      "17       False           False         True\n",
      "18       False           False         True\n",
      "19       False            True         True\n",
      "20       False           False         True\n",
      "21       False           False         True\n",
      "22       False           False         True\n",
      "23       False           False         True\n",
      "24       False           False         True\n",
      "25       False           False         True\n",
      "26       False           False         True\n",
      "27       False           False         True\n",
      "28       False           False         True\n",
      "29       False           False         True\n",
      "30       False           False         True\n",
      "31       False           False         True\n",
      "32       False           False         True\n",
      "33       False           False         True\n",
      "34       False           False         True\n",
      "35       False           False         True\n",
      "36       False           False         True\n",
      "37       False           False         True\n",
      "38       False           False         True\n",
      "39       False           False         True\n",
      "40       False           False         True\n",
      "41       False           False         True\n",
      "42       False           False         True\n",
      "43       False           False         True\n",
      "44       False           False         True\n",
      "45       False           False         True\n",
      "46       False           False         True\n",
      "47       False           False         True\n",
      "48       False           False         True\n",
      "check for non-missing values using isnull()\n",
      "    Given_name  Position_title  Salary_paid\n",
      "0         True            True        False\n",
      "1         True            True        False\n",
      "2         True            True        False\n",
      "3         True            True        False\n",
      "4         True            True        False\n",
      "5         True            True        False\n",
      "6         True            True        False\n",
      "7         True            True        False\n",
      "8         True            True        False\n",
      "9         True            True        False\n",
      "10        True            True        False\n",
      "11        True            True        False\n",
      "12        True            True        False\n",
      "13        True            True        False\n",
      "14        True            True        False\n",
      "15        True            True        False\n",
      "16        True            True        False\n",
      "17        True            True        False\n",
      "18        True            True        False\n",
      "19        True           False        False\n",
      "20        True            True        False\n",
      "21        True            True        False\n",
      "22        True            True        False\n",
      "23        True            True        False\n",
      "24        True            True        False\n",
      "25        True            True        False\n",
      "26        True            True        False\n",
      "27        True            True        False\n",
      "28        True            True        False\n",
      "29        True            True        False\n",
      "30        True            True        False\n",
      "31        True            True        False\n",
      "32        True            True        False\n",
      "33        True            True        False\n",
      "34        True            True        False\n",
      "35        True            True        False\n",
      "36        True            True        False\n",
      "37        True            True        False\n",
      "38        True            True        False\n",
      "39        True            True        False\n",
      "40        True            True        False\n",
      "41        True            True        False\n",
      "42        True            True        False\n",
      "43        True            True        False\n",
      "44        True            True        False\n",
      "45        True            True        False\n",
      "46        True            True        False\n",
      "47        True            True        False\n",
      "48        True            True        False\n",
      "Data Frame after using dropna\n",
      "Empty DataFrame\n",
      "Columns: [Given_name, Position_title, Salary_paid]\n",
      "Index: []\n",
      "\n",
      "DataFrame after filling missing quantity values:\n",
      "    Given_name                                     Position_title  Salary_paid\n",
      "0       YOUSRA                                Assistant Professor          NaN\n",
      "1        EIHAB                                          Professor          NaN\n",
      "2     ISHAN S.                        Associate Director, Systems          NaN\n",
      "3      HOSSEIN                                Associate Professor          NaN\n",
      "4         JOHN  Academic Dean, Continuing Lecturer, and Manage...          NaN\n",
      "5    NASSER M.                                Associate Professor          NaN\n",
      "6       HECTOR                               Sessional Instructor          NaN\n",
      "7    KATHERINE                                          Professor          NaN\n",
      "8       STACEY                                Associate Professor          NaN\n",
      "9     WENDI L.                                          Professor          NaN\n",
      "10       JAMES                                           Lecturer          NaN\n",
      "11    NIYAYESH                                          Professor          NaN\n",
      "12   SHEILA L.                                         Dean, Arts          NaN\n",
      "13      GORDON                                Associate Professor          NaN\n",
      "14        LENA                                           Lecturer          NaN\n",
      "15       ILHAM                                           Lecturer          NaN\n",
      "16      LAMEES                                           Lecturer          NaN\n",
      "17       SAMER                                Associate Professor          NaN\n",
      "18   JAVIER A.                                     Executive Chef          NaN\n",
      "19        AMIR                                                NaN          NaN\n",
      "20       DAVID                         Network Support Specialist          NaN\n",
      "21      ELSHAN                                   Business Manager          NaN\n",
      "22       MARCO                                Associate Professor          NaN\n",
      "23       RANIA                                           Lecturer          NaN\n",
      "24    ARMUGHAN                                  Managing Director          NaN\n",
      "25  CHRISTIANA                      Manager, Corporate Accounting          NaN\n",
      "26      DANIEL                     Information Systems Specialist          NaN\n",
      "27        ADIL                                Associate Professor          NaN\n",
      "28   MHD WASEM                                Assistant Professor          NaN\n",
      "29       SIBEL                                Associate Professor          NaN\n",
      "30       BRITT                                Associate Professor          NaN\n",
      "31  WILLIAM B.                       Research Associate Professor          NaN\n",
      "32    GLENN W.                               Computing Consultant          NaN\n",
      "33    SCOTT J.                   Supervisor, Learning Environment          NaN\n",
      "34        LOIS                                          Professor          NaN\n",
      "35  GREGORY G.                                           Lecturer          NaN\n",
      "36       TANYA                      Manager, Counselling Services          NaN\n",
      "37        JEAN                                          Professor          NaN\n",
      "38  RICHARD E.                                           Lecturer          NaN\n",
      "39  WILLIAM K.                                Associate Professor          NaN\n",
      "40    KELLY K.                                           Lecturer          NaN\n",
      "41    AGATA J.  Associate Director, Strategic Planning and Adm...          NaN\n",
      "42     MOHAMAD                                Associate Professor          NaN\n",
      "43       ARASH                                Assistant Professor          NaN\n",
      "44    DEREK R.                                          Professor          NaN\n",
      "45       SUMAN          Director, Brand and Strategic Initiatives          NaN\n",
      "46        MARK                                           Lecturer          NaN\n",
      "47   NADARAJAH                                          Professor          NaN\n",
      "48  ABDELJALIL                                Research, Chemistry          NaN\n",
      "\n",
      "DataFrame after replacing 'STACEY' with 'GEWN':\n",
      "    Given_name                                     Position_title  Salary_paid\n",
      "0       YOUSRA                                Assistant Professor          NaN\n",
      "1        EIHAB                                          Professor          NaN\n",
      "2     ISHAN S.                        Associate Director, Systems          NaN\n",
      "3      HOSSEIN                                Associate Professor          NaN\n",
      "4         JOHN  Academic Dean, Continuing Lecturer, and Manage...          NaN\n",
      "5    NASSER M.                                Associate Professor          NaN\n",
      "6       HECTOR                               Sessional Instructor          NaN\n",
      "7    KATHERINE                                          Professor          NaN\n",
      "8       STACEY                                Associate Professor          NaN\n",
      "9     WENDI L.                                          Professor          NaN\n",
      "10       JAMES                                           Lecturer          NaN\n",
      "11    NIYAYESH                                          Professor          NaN\n",
      "12   SHEILA L.                                         Dean, Arts          NaN\n",
      "13      GORDON                                Associate Professor          NaN\n",
      "14        LENA                                           Lecturer          NaN\n",
      "15       ILHAM                                           Lecturer          NaN\n",
      "16      LAMEES                                           Lecturer          NaN\n",
      "17       SAMER                                Associate Professor          NaN\n",
      "18   JAVIER A.                                     Executive Chef          NaN\n",
      "19        AMIR                                                NaN          NaN\n",
      "20       DAVID                         Network Support Specialist          NaN\n",
      "21      ELSHAN                                   Business Manager          NaN\n",
      "22       MARCO                                Associate Professor          NaN\n",
      "23       RANIA                                           Lecturer          NaN\n",
      "24    ARMUGHAN                                  Managing Director          NaN\n",
      "25  CHRISTIANA                      Manager, Corporate Accounting          NaN\n",
      "26      DANIEL                     Information Systems Specialist          NaN\n",
      "27        ADIL                                Associate Professor          NaN\n",
      "28   MHD WASEM                                Assistant Professor          NaN\n",
      "29       SIBEL                                Associate Professor          NaN\n",
      "30       BRITT                                Associate Professor          NaN\n",
      "31  WILLIAM B.                       Research Associate Professor          NaN\n",
      "32    GLENN W.                               Computing Consultant          NaN\n",
      "33    SCOTT J.                   Supervisor, Learning Environment          NaN\n",
      "34        LOIS                                          Professor          NaN\n",
      "35  GREGORY G.                                           Lecturer          NaN\n",
      "36       TANYA                      Manager, Counselling Services          NaN\n",
      "37        JEAN                                          Professor          NaN\n",
      "38  RICHARD E.                                           Lecturer          NaN\n",
      "39  WILLIAM K.                                Associate Professor          NaN\n",
      "40    KELLY K.                                           Lecturer          NaN\n",
      "41    AGATA J.  Associate Director, Strategic Planning and Adm...          NaN\n",
      "42     MOHAMAD                                Associate Professor          NaN\n",
      "43       ARASH                                Assistant Professor          NaN\n",
      "44    DEREK R.                                          Professor          NaN\n",
      "45       SUMAN          Director, Brand and Strategic Initiatives          NaN\n",
      "46        MARK                                           Lecturer          NaN\n",
      "47   NADARAJAH                                          Professor          NaN\n",
      "48  ABDELJALIL                                Research, Chemistry          NaN\n",
      "\n",
      "DataFrame after linear interpolation\n",
      "    Given_name                                     Position_title  Salary_paid\n",
      "0       YOUSRA                                Assistant Professor          NaN\n",
      "1        EIHAB                                          Professor          NaN\n",
      "2     ISHAN S.                        Associate Director, Systems          NaN\n",
      "3      HOSSEIN                                Associate Professor          NaN\n",
      "4         JOHN  Academic Dean, Continuing Lecturer, and Manage...          NaN\n",
      "5    NASSER M.                                Associate Professor          NaN\n",
      "6       HECTOR                               Sessional Instructor          NaN\n",
      "7    KATHERINE                                          Professor          NaN\n",
      "8       STACEY                                Associate Professor          NaN\n",
      "9     WENDI L.                                          Professor          NaN\n",
      "10       JAMES                                           Lecturer          NaN\n",
      "11    NIYAYESH                                          Professor          NaN\n",
      "12   SHEILA L.                                         Dean, Arts          NaN\n",
      "13      GORDON                                Associate Professor          NaN\n",
      "14        LENA                                           Lecturer          NaN\n",
      "15       ILHAM                                           Lecturer          NaN\n",
      "16      LAMEES                                           Lecturer          NaN\n",
      "17       SAMER                                Associate Professor          NaN\n",
      "18   JAVIER A.                                     Executive Chef          NaN\n",
      "19        AMIR                                                NaN          NaN\n",
      "20       DAVID                         Network Support Specialist          NaN\n",
      "21      ELSHAN                                   Business Manager          NaN\n",
      "22       MARCO                                Associate Professor          NaN\n",
      "23       RANIA                                           Lecturer          NaN\n",
      "24    ARMUGHAN                                  Managing Director          NaN\n",
      "25  CHRISTIANA                      Manager, Corporate Accounting          NaN\n",
      "26      DANIEL                     Information Systems Specialist          NaN\n",
      "27        ADIL                                Associate Professor          NaN\n",
      "28   MHD WASEM                                Assistant Professor          NaN\n",
      "29       SIBEL                                Associate Professor          NaN\n",
      "30       BRITT                                Associate Professor          NaN\n",
      "31  WILLIAM B.                       Research Associate Professor          NaN\n",
      "32    GLENN W.                               Computing Consultant          NaN\n",
      "33    SCOTT J.                   Supervisor, Learning Environment          NaN\n",
      "34        LOIS                                          Professor          NaN\n",
      "35  GREGORY G.                                           Lecturer          NaN\n",
      "36       TANYA                      Manager, Counselling Services          NaN\n",
      "37        JEAN                                          Professor          NaN\n",
      "38  RICHARD E.                                           Lecturer          NaN\n",
      "39  WILLIAM K.                                Associate Professor          NaN\n",
      "40    KELLY K.                                           Lecturer          NaN\n",
      "41    AGATA J.  Associate Director, Strategic Planning and Adm...          NaN\n",
      "42     MOHAMAD                                Associate Professor          NaN\n",
      "43       ARASH                                Assistant Professor          NaN\n",
      "44    DEREK R.                                          Professor          NaN\n",
      "45       SUMAN          Director, Brand and Strategic Initiatives          NaN\n",
      "46        MARK                                           Lecturer          NaN\n",
      "47   NADARAJAH                                          Professor          NaN\n",
      "48  ABDELJALIL                                Research, Chemistry          NaN\n"
     ]
    }
   ],
   "source": [
    "file = pd.read_csv(\"D:\\christ\\sem 1\\python programming\\juptyer-notebook\\csv\\sample_faculty.csv\")\n",
    "df = pd.DataFrame(file)\n",
    "df.info()\n",
    "\n",
    "df['Salary_paid'] = pd.to_numeric(df['Salary_paid'], errors='coerce')\n",
    "\n",
    "print(\"check for missing values using isnull()\")\n",
    "print(df.isnull())\n",
    "\n",
    "print(\"check for non-missing values using isnull()\")\n",
    "print(df.notnull())\n",
    "\n",
    "print(\"Data Frame after using dropna\")\n",
    "print(df.dropna())\n",
    "\n",
    "mean_quantity = df['Salary_paid'].mean()\n",
    "df_filled = df.fillna({'Salary_paid': mean_quantity})\n",
    "print(\"\\nDataFrame after filling missing quantity values:\")\n",
    "print(df_filled)\n",
    "\n",
    "df_replaced = df.replace({'Given name': {'STACEY': 'GEWN'}})\n",
    "print(\"\\nDataFrame after replacing 'STACEY' with 'GEWN':\")\n",
    "print(df_replaced)\n",
    "\n",
    "df_interpolated = df.interpolate()\n",
    "print(\"\\nDataFrame after linear interpolation\")\n",
    "print(df_interpolated)\n",
    "\n"
   ]
  },
  {
   "cell_type": "markdown",
   "metadata": {},
   "source": [
    "Perform the Hierarchical Indexing in the above created dataset."
   ]
  },
  {
   "cell_type": "code",
   "execution_count": 17,
   "metadata": {},
   "outputs": [
    {
     "name": "stdout",
     "output_type": "stream",
     "text": [
      "\n",
      "DataFrame with 'Given name' and 'Position title' as index:\n",
      "                                                               Salary_paid\n",
      "Given_name Position_title                                                 \n",
      "YOUSRA     Assistant Professor                                         NaN\n",
      "EIHAB      Professor                                                   NaN\n",
      "ISHAN S.   Associate Director, Systems                                 NaN\n",
      "HOSSEIN    Associate Professor                                         NaN\n",
      "JOHN       Academic Dean, Continuing Lecturer, and Manager...          NaN\n",
      "NASSER M.  Associate Professor                                         NaN\n",
      "HECTOR     Sessional Instructor                                        NaN\n",
      "KATHERINE  Professor                                                   NaN\n",
      "STACEY     Associate Professor                                         NaN\n",
      "WENDI L.   Professor                                                   NaN\n",
      "JAMES      Lecturer                                                    NaN\n",
      "NIYAYESH   Professor                                                   NaN\n",
      "SHEILA L.  Dean, Arts                                                  NaN\n",
      "GORDON     Associate Professor                                         NaN\n",
      "LENA       Lecturer                                                    NaN\n",
      "ILHAM      Lecturer                                                    NaN\n",
      "LAMEES     Lecturer                                                    NaN\n",
      "SAMER      Associate Professor                                         NaN\n",
      "JAVIER A.  Executive Chef                                              NaN\n",
      "AMIR       NaN                                                         NaN\n",
      "DAVID      Network Support Specialist                                  NaN\n",
      "ELSHAN     Business Manager                                            NaN\n",
      "MARCO      Associate Professor                                         NaN\n",
      "RANIA      Lecturer                                                    NaN\n",
      "ARMUGHAN   Managing Director                                           NaN\n",
      "CHRISTIANA Manager, Corporate Accounting                               NaN\n",
      "DANIEL     Information Systems Specialist                              NaN\n",
      "ADIL       Associate Professor                                         NaN\n",
      "MHD WASEM  Assistant Professor                                         NaN\n",
      "SIBEL      Associate Professor                                         NaN\n",
      "BRITT      Associate Professor                                         NaN\n",
      "WILLIAM B. Research Associate Professor                                NaN\n",
      "GLENN W.   Computing Consultant                                        NaN\n",
      "SCOTT J.   Supervisor, Learning Environment                            NaN\n",
      "LOIS       Professor                                                   NaN\n",
      "GREGORY G. Lecturer                                                    NaN\n",
      "TANYA      Manager, Counselling Services                               NaN\n",
      "JEAN       Professor                                                   NaN\n",
      "RICHARD E. Lecturer                                                    NaN\n",
      "WILLIAM K. Associate Professor                                         NaN\n",
      "KELLY K.   Lecturer                                                    NaN\n",
      "AGATA J.   Associate Director, Strategic Planning and Admi...          NaN\n",
      "MOHAMAD    Associate Professor                                         NaN\n",
      "ARASH      Assistant Professor                                         NaN\n",
      "DEREK R.   Professor                                                   NaN\n",
      "SUMAN      Director, Brand and Strategic Initiatives                   NaN\n",
      "MARK       Lecturer                                                    NaN\n",
      "NADARAJAH  Professor                                                   NaN\n",
      "ABDELJALIL Research, Chemistry                                         NaN\n"
     ]
    }
   ],
   "source": [
    "df.set_index(['Given_name', 'Position_title'], inplace=True)\n",
    "\n",
    "# Print the DataFrame with the new index\n",
    "print(\"\\nDataFrame with 'Given name' and 'Position title' as index:\")\n",
    "print(df)"
   ]
  }
 ],
 "metadata": {
  "kernelspec": {
   "display_name": "Python 3",
   "language": "python",
   "name": "python3"
  },
  "language_info": {
   "codemirror_mode": {
    "name": "ipython",
    "version": 3
   },
   "file_extension": ".py",
   "mimetype": "text/x-python",
   "name": "python",
   "nbconvert_exporter": "python",
   "pygments_lexer": "ipython3",
   "version": "3.9.7"
  },
  "orig_nbformat": 4
 },
 "nbformat": 4,
 "nbformat_minor": 2
}
